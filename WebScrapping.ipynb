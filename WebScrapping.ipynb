{
 "cells": [
  {
   "cell_type": "code",
   "execution_count": 1,
   "metadata": {},
   "outputs": [
    {
     "name": "stdout",
     "output_type": "stream",
     "text": [
      "['Sheet']\n",
      "['Top rated movies']\n"
     ]
    }
   ],
   "source": [
    "from bs4 import BeautifulSoup\n",
    "import requests, openpyxl\n",
    "excel= openpyxl.Workbook()\n",
    "print(excel.sheetnames)\n",
    "sheet = excel.active\n",
    "sheet.title = 'Top rated movies'\n",
    "print(excel.sheetnames)\n",
    "sheet.append(['Movie rank','Movie name','Year of release','IMDB rating'])\n",
    "try:\n",
    "    source = requests.get('https://www.imdb.com/chart/top/')\n",
    "    source.raise_for_status()\n",
    "    \n",
    "    soup = BeautifulSoup(source.text,'html.parser')\n",
    "    #print(soup)\n",
    "    movies = soup.find('tbody',class_=\"lister-list\").find_all('tr')#tr tag\n",
    "    #print(len(movies))\n",
    "    for movie in movies:\n",
    "        name = movie.find('td',class_=\"titleColumn\").a.text\n",
    "        #rank = movie.find('td',class_=\"titleColumn\").text --- whole text in that tag\n",
    "        rank = movie.find('td',class_=\"titleColumn\").get_text(strip=True).split('.')[0]\n",
    "        year =movie.find('td',class_=\"titleColumn\").span.text.strip('()')\n",
    "        rating = movie.find('td',class_=\"ratingColumn imdbRating\").strong.text\n",
    "        \n",
    "        #print(rank,name,year,rating)\n",
    "       \n",
    "        sheet.append([rank,name,year,rating])\n",
    "    \n",
    "    \n",
    "except Exception as e:\n",
    "    print(e)\n",
    "\n",
    "excel.save('IMDB Movie Rating.xlsx')"
   ]
  },
  {
   "cell_type": "code",
   "execution_count": null,
   "metadata": {},
   "outputs": [],
   "source": []
  }
 ],
 "metadata": {
  "kernelspec": {
   "display_name": "Python 3",
   "language": "python",
   "name": "python3"
  },
  "language_info": {
   "codemirror_mode": {
    "name": "ipython",
    "version": 3
   },
   "file_extension": ".py",
   "mimetype": "text/x-python",
   "name": "python",
   "nbconvert_exporter": "python",
   "pygments_lexer": "ipython3",
   "version": "3.8.3"
  }
 },
 "nbformat": 4,
 "nbformat_minor": 4
}
